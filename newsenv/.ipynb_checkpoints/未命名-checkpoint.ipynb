{
 "cells": [
  {
   "cell_type": "code",
   "execution_count": 226,
   "metadata": {
    "scrolled": true
   },
   "outputs": [
    {
     "name": "stdout",
     "output_type": "stream",
     "text": [
      "灰熊戰績一落千丈 小加索交易流言加溫 https://nba.udn.com//nba/story/6780/3605588\n",
      "2019-01-21 12:52\n",
      "近20場比賽只拿下4勝，且近10場比賽僅奪1勝，灰熊目前排名已經滑落至西區倒數第2，不少聯盟內部消息人士都認為，迫在眉睫的交易截止日會是球隊未來發展的關鍵轉捩點。球星小加索（Marc Gasol）明年合約為球員選項，他很有可能選擇跳出進而尋求簽下長約的機會，所以灰熊顯然不能排除他夏天離開的可能，故搶在交易截止日前出手，換回未來重建籌碼自然得是選項之一。\n",
      "   《紐約時報》記者史坦（Marc Stein）日前就表示，小加索是不少球隊列入觀察的交易對象，特別是灰熊最近戰績一落千丈後，更讓小加索在曼菲斯未來變得混沌不明。《The Athletic》知名記者查蘭尼亞（Shams Charania）更指出，小加索與柯利（Mike Conley）日前和球隊老闆佩拉（Robert Pera）進行會面，就球隊未來方面進行意見交流，無疑讓交易流言火上加油。小加索對此則拒絕透露會談內容，僅表示：「佩拉正好來到曼菲斯，所以我們就見面了，這次會面也很有收穫，就只是這麼一回事而已，沒什麼特別的，沒有能改變世界的事發生。」\n",
      "https://pgw.udn.com.tw/gw/photo.php?u=https://uc.udn.com.tw/photo/2019/01/21/99/5824946.jpg&x=0&y=0&sw=0&sh=0&sl=W&fw=1050&exp=3600\n",
      "米契爾不爭衛冕 傳灌籃大賽參與者曝光 https://nba.udn.com//nba/story/6780/3605522\n",
      "2019-01-21 12:15\n",
      "NBAfacebooktwitterpinterest身為上屆全明星周末灌籃大賽冠軍得主，米契爾（Donovan Mitchell）日前透露，自己將不參與今年賽事，如今聯盟消息來源透露，4位參賽者中3位已搶先曝光。《雅虎體育》記者海恩斯（Chris Haynes）表示，體能勁爆的黃蜂前鋒布里吉斯（Miles Bridges）將是今年灌籃大賽參賽者之一。\n",
      "   而另一位記者馬朗尼（Oliver Maroney）除了證實布里吉斯會參賽外，還加碼爆料2位參賽者，分別是老鷹長人柯林斯（John Collins）和熱火前鋒瓊斯（Derrick Jones Jr.）。值得一提的是，今年全明星周末賽事將於夏洛特舉辦，所以布里吉斯會是代表地主參賽，而瓊斯則是3人中唯一有過往經驗者，2017年以太陽球員身份參賽。\n",
      "https://pgw.udn.com.tw/gw/photo.php?u=https://uc.udn.com.tw/photo/2019/01/21/99/5824851.jpg&x=0&y=0&sw=0&sh=0&sl=W&fw=1050&exp=3600\n",
      "哈里斯繳準大三元 快艇退馬刺終止5連敗 https://nba.udn.com//nba/story/6780/3605403\n",
      "2019-01-21 11:41\n",
      "馬刺隊今日（21號）迎回前役左腳踝扭傷的德羅展（ DeMar DeRozan），儘管艾德里奇（LaMarcus Aldridge）狂轟30分、14籃板，但仍未能率領馬刺攜手闖關，遭變陣大膽啟用「3衛」的快艇隊擊敗，快艇103：95終止本季最長5連敗。快艇隊此役將貝佛利（Patrick Beverley ）擺上先發，收到奇兵之效，這是貝佛利自去年11月19日後首度先發，攻下本季次高18分、12籃板、5助攻、4抄截外加一次火鍋全能數據。\n",
      "   他開賽就切入妙傳給哈瑞爾（Montrezl Harrell）上演空中接力雙手爆扣，穿針引線活絡快艇隊的攻勢，幫助快艇首節就取得38：26雙位數領先。馬刺隊此役僅僅領先14秒，出現在首節倒數3分半，不過隨後就被快艇隊打出11：0超前攻勢，瞬間擴大到雙位數分差。大半場都趨於落後的馬刺隊，決勝節最後1分鐘蓋伊（Rudy Gay ）、艾德里奇連拿5分，加上懷特（Derrick White ）兩罰一中，艾德里奇跳投再添兩分，打出一波8：0攻勢，追到6分差，不過貝佛利讀秒階段兩罰俱中鎖住勝利。快艇5人得分上雙，哈里斯（Tobias Harris ）繳27分，籃板、助攻各9，哈瑞爾也有18分、4籃板。艾德里奇雖然飆高分，無奈球隊出現多達18次失誤，蓋伊19分，傷癒歸隊的德羅展手感冰冷，16投僅4中只有8分、7籃板進帳。\n",
      "https://pgw.udn.com.tw/gw/photo.php?u=https://uc.udn.com.tw/photo/2019/01/21/1/5824605.jpg&x=0&y=0&sw=0&sh=0&sl=W&fw=1050&exp=3600\n"
     ]
    }
   ],
   "source": [
    "import requests\n",
    "from bs4 import BeautifulSoup\n",
    "import urllib\n",
    "import re\n",
    "import html\n",
    "\n",
    "url = 'https://nba.udn.com/nba/index?gr=www' #選擇網址\n",
    "user_agent = 'Mozilla/5.0 (Windows; U; Windows NT 6.1; zh-CN; rv:1.9.2.15) Gecko/20110303 Firefox/3.6.15' #偽裝使用者\n",
    "headers = {'User-Agent':user_agent}\n",
    "data_res = urllib.request.Request(url=url,headers=headers)\n",
    "data = urllib.request.urlopen(data_res, timeout=20)\n",
    "sp = BeautifulSoup(data, \"html.parser\")\n",
    "#標題\n",
    "title=[]\n",
    "titles = sp.find(\"div\",{\"id\":\"news\"}).findAll(\"h3\")\n",
    "for i in titles:\n",
    "    title.append(i.text)\n",
    "link=[]\n",
    "links = sp.find(\"div\",{\"id\":\"news\"}).findAll(\"a\", href = re.compile('/nba/story/'))\n",
    "for i in links:\n",
    "    link.append('https://nba.udn.com/'+i['href'])\n",
    "for t, l in zip(title,link):\n",
    "    print(t,l)\n",
    "    content_crawler(l)\n"
   ]
  },
  {
   "cell_type": "code",
   "execution_count": 225,
   "metadata": {},
   "outputs": [],
   "source": [
    "import requests\n",
    "from bs4 import BeautifulSoup\n",
    "import urllib\n",
    "import re\n",
    "import html\n",
    "def content_crawler(url):\n",
    "    url = url #選擇網址\n",
    "    user_agent = 'Mozilla/5.0 (Windows; U; Windows NT 6.1; zh-CN; rv:1.9.2.15) Gecko/20110303 Firefox/3.6.15' #偽裝使用者\n",
    "    headers = {'User-Agent':user_agent}\n",
    "    data_res = urllib.request.Request(url=url,headers=headers)\n",
    "    data = urllib.request.urlopen(data_res, timeout=20)\n",
    "    sp = BeautifulSoup(data, \"html.parser\")\n",
    "    #標題\n",
    "    content_list= []\n",
    "    content = sp.find(\"div\",{\"id\":\"story_body_content\"}).findAll(\"span\")\n",
    "    time = content[0].text\n",
    "    print(time)\n",
    "    for i in content:\n",
    "        content_list.append(i)\n",
    "    content_group = content_list[2].text\n",
    "    content_group = content_group.lstrip(' NBAfacebooktwitterpinterest')\n",
    "    content_group = content_group.lstrip(' 美聯社facebooktwitterpinterest')\n",
    "    content_one,another =  content_group.split('.inline-ad { position')\n",
    "    nothing,content_two =  another.split('); });')\n",
    "    print(content_one+content_two)\n",
    "    photo = sp.find(\"figure\",{\"class\":\"photo_center photo-story\"}).find('img')['data-src']\n",
    "    print(photo)\n",
    "\n"
   ]
  },
  {
   "cell_type": "code",
   "execution_count": 219,
   "metadata": {},
   "outputs": [
    {
     "name": "stdout",
     "output_type": "stream",
     "text": [
      "https://pgw.udn.com.tw/gw/photo.php?u=https://uc.udn.com.tw/photo/2019/01/21/99/5824851.jpg&x=0&y=0&sw=0&sh=0&sl=W&fw=1050&exp=3600\n"
     ]
    }
   ],
   "source": [
    "url = 'https://nba.udn.com/nba/story/6780/3605522' #選擇網址\n",
    "user_agent = 'Mozilla/5.0 (Windows; U; Windows NT 6.1; zh-CN; rv:1.9.2.15) Gecko/20110303 Firefox/3.6.15' #偽裝使用者\n",
    "headers = {'User-Agent':user_agent}\n",
    "data_res = urllib.request.Request(url=url,headers=headers)\n",
    "data = urllib.request.urlopen(data_res, timeout=20)\n",
    "sp = BeautifulSoup(data, \"html.parser\")\n",
    "photo = sp.find(\"figure\",{\"class\":\"photo_center photo-story\"}).find('img')['data-src']\n",
    "print(photo)\n"
   ]
  },
  {
   "cell_type": "code",
   "execution_count": null,
   "metadata": {},
   "outputs": [],
   "source": []
  }
 ],
 "metadata": {
  "kernelspec": {
   "display_name": "Python 3",
   "language": "python",
   "name": "python3"
  },
  "language_info": {
   "codemirror_mode": {
    "name": "ipython",
    "version": 3
   },
   "file_extension": ".py",
   "mimetype": "text/x-python",
   "name": "python",
   "nbconvert_exporter": "python",
   "pygments_lexer": "ipython3",
   "version": "3.6.5"
  }
 },
 "nbformat": 4,
 "nbformat_minor": 2
}
