{
 "cells": [
  {
   "cell_type": "code",
   "execution_count": 3,
   "metadata": {
    "scrolled": true
   },
   "outputs": [
    {
     "name": "stdout",
     "output_type": "stream",
     "text": [
      "憶16年總冠軍賽 傑佛森：百年後還會有人談 https://nba.udn.com//nba/story/6780/3606084\n",
      "2019-01-21 16:53\n",
      "去年休賽季宣佈高掛球鞋退休消息，傑佛森（Richard Jefferson）近日為《球員論壇》撰寫1篇自己生涯回顧文，其中2016年總冠軍賽自然是最大焦點。他不諱言寫說：「很多人跟我說，『RJ，你去騎士就是抱腿奪冠啊』，我都會回，『當然，我就是啊』。我打了這麼久籃球，付出了這麼多苦功，我擁有許多瘋狂回憶，但我就是沒有那全世界最重要的東西。」\n",
      "   傑佛森強調，2016年與騎士一同奪冠，從1比3落後到擊敗73勝勇士，「當我回頭去看，我真的覺得自己非常幸運，我認為就算100年過後，人們還是會繼續談2016年總冠軍賽」。他接續表示：「不管籃球演進成怎樣運動，不管還會不會有克里夫蘭騎士，甚至不管俄亥俄州怎樣了，還是勇士又拿了4、5或10座冠軍，有件事是不會變的，那就是我們從1比3絕境逆轉奪冠。」之後傑佛森理所當然回憶起最終第7戰，並大大讚許厄文（Kyrie Irving）三分、詹姆斯（LeBron James）阻攻還有勒夫（Kevin Love）關鍵防守。不過傑佛森倒是謙虛地帶過自己當年總冠軍賽貢獻，其實他前3輪季後賽上場時間十分有限，但總冠軍賽上臨危受命擔任2場先發且不負使命，傑佛森無疑也是騎士2016年奇蹟奪冠不可或缺的要角之一。\n",
      "https://pgw.udn.com.tw/gw/photo.php?u=https://uc.udn.com.tw/photo/2019/01/21/99/5825981.jpg&x=0&y=0&sw=0&sh=0&sl=W&fw=1050&exp=3600\n",
      "日本動漫迷力挺催票 亞當斯意外獲奧援 https://nba.udn.com//nba/story/6780/3606012\n",
      "2019-01-21 16:24\n",
      "2019年夏洛特全明星賽投票將於台灣時間22號中午12點截止，先前第3階段球迷投票結果公佈時，雷霆中鋒亞當斯（Steven Adams）以1,483,223票居西區前場球員第6位。在這最後投票階段，亞當斯也獲得支持者大力催票，但這群的支持者挺亞當斯原因卻有些特殊，他們來自美國交流日本動漫社群，而幫亞當斯拉票是因為亞當斯曾數度公開表示，自己很愛日本動漫，特別是《航海王One piece》。\n",
      "   在這段日本動漫粉絲製作的拉票影片中，就整理了亞當斯受訪時發言，像是他承認沒在關注NBA開幕戰，而是把時間拿去看《航海王One piece》。或者1位記者問亞當斯，是否有注意到對手戈貝爾（Rudy Gobert）腳下鞋子，他原本顯得毫不感興趣，說自己根本沒關注。但記者一提到，戈貝爾鞋是跟《航海王One piece》有關，亞當斯立刻眼睛一亮，回說：「哇嗚！但我還是恨這傢伙。」這影片所發布的美國交流日本動漫社群網站的官方推特，該推特帳號有80多萬跟隨者，影片最後也提醒喜愛《航海王One piece》粉絲一同努力，用手中選票把亞當斯送進全明星賽。Steven Adams is in the running for the NBA All-Star team!! 🏀 Vote for a fellow anime fan HERE: https://t.co/JEEW08uEA2 pic.twitter.com/TeWWFtSr0l— Crunchyroll 💕 (@Crunchyroll) 2019年1月19日\n",
      "https://pgw.udn.com.tw/gw/photo.php?u=https://uc.udn.com.tw/photo/2019/01/21/99/5825872.jpg&x=0&y=0&sw=0&sh=0&sl=W&fw=1050&exp=3600\n",
      "詹皇像C羅、梅西像布萊恩 巫師後衛答英媒提問 https://nba.udn.com//nba/story/6780/3605968\n",
      "2019-01-21 15:58\n",
      "日前巫師與尼克造訪英國倫敦，參與行之有年的海外例行賽，由於身處足球是最熱門運動的異鄉，NBA球員免不了得入境隨俗，面對和足球有關的問題。接受《Goal.com》訪談時，被問到究竟是挺梅西（Lionel Messi）還是「C羅」羅納度（Cristiano Ronaldo），巫師後衛薩托蘭斯基（Tomas Satoransky）不諱言說，自己是支持梅西一邊。\n",
      "   他還比喻說：「而如果要我說，籃球場上的梅西是誰，我會說是布萊恩（Kobe Bryant）。假如是籃球場上的『C羅』的話，那大概是詹姆斯（LeBron James），因為他也非常高大強壯。」薩托蘭斯基也透露，他為什麼是梅西支持者，因為自己先前曾效力過巴塞隆納附屬籃球俱樂部，「我們和足球俱樂部共用一個訓練場館，大家都是一家人，過去像內馬爾（Neymar）或皮克（Gerard Pique）也都愛籃球，常來看我們比賽」。\n",
      "https://pgw.udn.com.tw/gw/photo.php?u=https://uc.udn.com.tw/photo/2019/01/21/99/5825778.jpg&x=0&y=0&sw=0&sh=0&sl=W&fw=1050&exp=3600\n"
     ]
    }
   ],
   "source": [
    "import requests\n",
    "from bs4 import BeautifulSoup\n",
    "import urllib\n",
    "import re\n",
    "import html\n",
    "\n",
    "url = 'https://nba.udn.com/nba/index?gr=www' #選擇網址\n",
    "user_agent = 'Mozilla/5.0 (Windows; U; Windows NT 6.1; zh-CN; rv:1.9.2.15) Gecko/20110303 Firefox/3.6.15' #偽裝使用者\n",
    "headers = {'User-Agent':user_agent}\n",
    "data_res = urllib.request.Request(url=url,headers=headers)\n",
    "data = urllib.request.urlopen(data_res, timeout=20)\n",
    "sp = BeautifulSoup(data, \"html.parser\")\n",
    "#標題\n",
    "title=[]\n",
    "titles = sp.find(\"div\",{\"id\":\"news\"}).findAll(\"h3\")\n",
    "for i in titles:\n",
    "    title.append(i.text)\n",
    "link=[]\n",
    "links = sp.find(\"div\",{\"id\":\"news\"}).findAll(\"a\", href = re.compile('/nba/story/'))\n",
    "for i in links:\n",
    "    link.append('https://nba.udn.com/'+i['href'])\n",
    "for t, l in zip(title,link):\n",
    "    print(t,l)\n",
    "    content_crawler(l)\n"
   ]
  },
  {
   "cell_type": "code",
   "execution_count": 2,
   "metadata": {},
   "outputs": [],
   "source": [
    "import requests\n",
    "from bs4 import BeautifulSoup\n",
    "import urllib\n",
    "import re\n",
    "import html\n",
    "def content_crawler(url):\n",
    "    url = url #選擇網址\n",
    "    user_agent = 'Mozilla/5.0 (Windows; U; Windows NT 6.1; zh-CN; rv:1.9.2.15) Gecko/20110303 Firefox/3.6.15' #偽裝使用者\n",
    "    headers = {'User-Agent':user_agent}\n",
    "    data_res = urllib.request.Request(url=url,headers=headers)\n",
    "    data = urllib.request.urlopen(data_res, timeout=20)\n",
    "    sp = BeautifulSoup(data, \"html.parser\")\n",
    "    #標題\n",
    "    content_list= []\n",
    "    content = sp.find(\"div\",{\"id\":\"story_body_content\"}).findAll(\"span\")\n",
    "    time = content[0].text\n",
    "    print(time)\n",
    "    for i in content:\n",
    "        content_list.append(i)\n",
    "    content_group = content_list[2].text\n",
    "    content_group = content_group.lstrip(' NBAfacebooktwitterpinterest')\n",
    "    content_group = content_group.lstrip(' 美聯社facebooktwitterpinterest')\n",
    "    content_one,another =  content_group.split('.inline-ad { position')\n",
    "    nothing,content_two =  another.split('); });')\n",
    "    print(content_one+content_two)\n",
    "    photo = sp.find(\"figure\",{\"class\":\"photo_center photo-story\"}).find('img')['data-src']\n",
    "    print(photo)\n",
    "\n"
   ]
  },
  {
   "cell_type": "code",
   "execution_count": 219,
   "metadata": {},
   "outputs": [
    {
     "name": "stdout",
     "output_type": "stream",
     "text": [
      "https://pgw.udn.com.tw/gw/photo.php?u=https://uc.udn.com.tw/photo/2019/01/21/99/5824851.jpg&x=0&y=0&sw=0&sh=0&sl=W&fw=1050&exp=3600\n"
     ]
    }
   ],
   "source": [
    "url = 'https://nba.udn.com/nba/story/6780/3605522' #選擇網址\n",
    "user_agent = 'Mozilla/5.0 (Windows; U; Windows NT 6.1; zh-CN; rv:1.9.2.15) Gecko/20110303 Firefox/3.6.15' #偽裝使用者\n",
    "headers = {'User-Agent':user_agent}\n",
    "data_res = urllib.request.Request(url=url,headers=headers)\n",
    "data = urllib.request.urlopen(data_res, timeout=20)\n",
    "sp = BeautifulSoup(data, \"html.parser\")\n",
    "photo = sp.find(\"figure\",{\"class\":\"photo_center photo-story\"}).find('img')['data-src']\n",
    "print(photo)\n"
   ]
  },
  {
   "cell_type": "code",
   "execution_count": null,
   "metadata": {},
   "outputs": [],
   "source": []
  }
 ],
 "metadata": {
  "kernelspec": {
   "display_name": "Python 3",
   "language": "python",
   "name": "python3"
  },
  "language_info": {
   "codemirror_mode": {
    "name": "ipython",
    "version": 3
   },
   "file_extension": ".py",
   "mimetype": "text/x-python",
   "name": "python",
   "nbconvert_exporter": "python",
   "pygments_lexer": "ipython3",
   "version": "3.6.5"
  }
 },
 "nbformat": 4,
 "nbformat_minor": 2
}
